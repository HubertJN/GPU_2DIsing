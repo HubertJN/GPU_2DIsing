{
 "cells": [
  {
   "cell_type": "markdown",
   "id": "2f1a4b80-b314-458b-a8db-c77c211939b6",
   "metadata": {},
   "source": [
    "# Test filtering of output grids"
   ]
  },
  {
   "cell_type": "code",
   "execution_count": 1,
   "id": "7a26fb86-7a12-49c8-86ca-7b942b0d7c30",
   "metadata": {},
   "outputs": [
    {
     "name": "stdout",
     "output_type": "stream",
     "text": [
      "Found 1 CUDA devices in this system\n",
      "Device 0 : Quadro P2000\n",
      "================================\n",
      "Number of SMs       : 8\n",
      "Max SHMEM per block : 48 KB\n",
      "Max Opt in shared   : 48 KB\n",
      "Recommended ngrids  : 1024\n",
      "\n",
      "Estimated largest L for shared memory code path : 109\n",
      "(Assumes threadsPerBlock = 32)\n",
      "\n",
      "Using CUDA device : 0\n"
     ]
    }
   ],
   "source": [
    "import numpy as np  # Grids are stored as NumPy Arrays\n",
    "import gasp         # GASP is what we're testing"
   ]
  },
  {
   "cell_type": "code",
   "execution_count": 2,
   "id": "c1bff43c-ee61-4fa2-88e1-8e7205b8b674",
   "metadata": {},
   "outputs": [
    {
     "name": "stdout",
     "output_type": "stream",
     "text": [
      " Sweep :       4900, Reached cv =   0.20 :  468 , Unresolved :  556\n",
      "CPU times: user 2.39 s, sys: 550 ms, total: 2.94 s\n",
      "Wall time: 9.02 s\n"
     ]
    }
   ],
   "source": [
    "%%time\n",
    "\n",
    "L = 64\n",
    "ngrids = 4*gasp.gpu_nsms*32\n",
    "nsweeps = 5000\n",
    "beta = 0.54\n",
    "h = 0.07\n",
    "\n",
    "grid_output_int = 100 # Should be a multiple of mag_output_int (not enforced?)\n",
    "mag_output_int  = 100 # Note that the collective variable (be it magnetisation or cluster size) is computed only at this interval\n",
    "\n",
    "frac = gasp.run_nucleation_swarm(L, ngrids, nsweeps, beta, h, \n",
    "                                 grid_output_int = grid_output_int,\n",
    "                                 mag_output_int=mag_output_int, \n",
    "                                 cv=\"magnetisation\",                    # Thresholds apply to magnetisation\n",
    "                                 dn_threshold=-0.85, up_threshold=0.2,  # Used for filtering as well as trajectory fate\n",
    "                                 keep_grids=True,                       # Store grids in memory as gasp.grids list\n",
    "                                 max_keep_grids=nsweeps*ngrids//2);     # Maximum grids to allocate space for"
   ]
  },
  {
   "cell_type": "code",
   "execution_count": 3,
   "id": "56f5ee15-7c35-458f-be39-9bbc2ac454e4",
   "metadata": {},
   "outputs": [
    {
     "name": "stdout",
     "output_type": "stream",
     "text": [
      "Number of snapshots are which grids were stored : 49 out of  50 sampled\n",
      "Total number of grids stored : 2887 out of  51200 sampled\n"
     ]
    }
   ],
   "source": [
    "print(\"Number of snapshots are which grids were stored :\", len(gasp.grids), \"out of \", nsweeps//grid_output_int, \"sampled\")\n",
    "\n",
    "tot_grids = 0\n",
    "for snaps in gasp.grids:\n",
    "    tot_grids += len(snaps)\n",
    "print(\"Total number of grids stored :\", tot_grids, \"out of \", nsweeps*ngrids//grid_output_int, \"sampled\")"
   ]
  },
  {
   "cell_type": "code",
   "execution_count": 4,
   "id": "14cc7580-5907-4d92-b1ac-0ecd3ca65361",
   "metadata": {},
   "outputs": [
    {
     "data": {
      "text/plain": [
       "True"
      ]
     },
     "execution_count": 4,
     "metadata": {},
     "output_type": "execute_result"
    }
   ],
   "source": [
    "# Magnetisation should still be stored at every mag_output_int regardless of filtering\n",
    "nsweeps//mag_output_int  == len(gasp.magnetisation)"
   ]
  },
  {
   "cell_type": "code",
   "execution_count": 5,
   "id": "fa212d95-230d-47cd-adbc-68a031bed467",
   "metadata": {},
   "outputs": [
    {
     "data": {
      "text/plain": [
       "50"
      ]
     },
     "execution_count": 5,
     "metadata": {},
     "output_type": "execute_result"
    }
   ],
   "source": [
    "len(frac)\n",
    "nsweeps//mag_output_int\n",
    "len(gasp.magnetisation)"
   ]
  },
  {
   "cell_type": "code",
   "execution_count": 6,
   "id": "7f1b93cd-7c51-4c64-8100-a1aa7d450ebf",
   "metadata": {},
   "outputs": [
    {
     "data": {
      "text/plain": [
       "array([[-1, -1, -1, ..., -1, -1, -1],\n",
       "       [-1, -1, -1, ..., -1, -1, -1],\n",
       "       [-1, -1, -1, ..., -1, -1, -1],\n",
       "       ...,\n",
       "       [-1, -1, -1, ...,  1, -1, -1],\n",
       "       [-1, -1, -1, ..., -1, -1, -1],\n",
       "       [-1, -1, -1, ..., -1, -1, -1]], dtype=int8)"
      ]
     },
     "execution_count": 6,
     "metadata": {},
     "output_type": "execute_result"
    }
   ],
   "source": [
    "gasp.grids[0][0].grid"
   ]
  },
  {
   "cell_type": "code",
   "execution_count": 7,
   "id": "1a8169be-fbe4-4250-b3a1-b7af49698c41",
   "metadata": {},
   "outputs": [
    {
     "name": "stdout",
     "output_type": "stream",
     "text": [
      "Most probable magnetisation in metastable state :  -0.9400000000000001\n"
     ]
    },
    {
     "data": {
      "image/png": "[encoded data removed]",
      "text/plain": [
       "<Figure size 640x480 with 1 Axes>"
      ]
     },
     "metadata": {},
     "output_type": "display_data"
    }
   ],
   "source": [
    "# Check that we're getting magnetisation at all output times\n",
    "import matplotlib.pyplot as plt\n",
    "\n",
    "# What is the distribution of magnetisation in the initial (metastable) state?\n",
    "all_mag = [m for ml in gasp.magnetisation for m in ml]\n",
    "\n",
    "plt.xlabel(\"Magnetisation\")\n",
    "plt.ylabel(\"Count\")\n",
    "n, bins, _ = plt.hist(all_mag, range=(-1,-0.8), bins=50)\n",
    "print(\"Most probable magnetisation in metastable state : \", bins[np.argmax(n)])\n",
    "\n",
    "# Set this as the dn_threshold for committor calcs\n",
    "dn_thr = bins[np.argmax(n)]"
   ]
  },
  {
   "cell_type": "code",
   "execution_count": 8,
   "id": "1c6489d3-4754-421f-836e-63bf44fb5300",
   "metadata": {},
   "outputs": [
    {
     "name": "stdout",
     "output_type": "stream",
     "text": [
      "magnetisaion :  -0.74658203125\n",
      "magnetisaion :  -0.74658203125\n",
      "magnetisaion :  -0.74658203125\n"
     ]
    },
    {
     "data": {
      "image/png": "[encoded data removed]",
      "text/plain": [
       "<Figure size 640x480 with 1 Axes>"
      ]
     },
     "metadata": {},
     "output_type": "display_data"
    }
   ],
   "source": [
    "# Visualise a random grid at a random sweep\n",
    "isnap = np.random.randint(0, len(gasp.grids))\n",
    "igrid = np.random.randint(0, len(gasp.grids[isnap]))\n",
    "grid_data = np.array(gasp.grids[isnap][igrid].grid)\n",
    "\n",
    "plt.imshow(grid_data, cmap='grey')                         \n",
    "print(\"magnetisaion : \", gasp.grids[isnap][igrid].magnetisation)           # Magnetisation stored as property of grid\n",
    "\n",
    "jsweep = gasp.grids[isnap][igrid].isweep//mag_output_int\n",
    "jgrid  = gasp.grids[isnap][igrid].igrid\n",
    "print(\"magnetisaion : \", gasp.magnetisation[jsweep][jgrid])                # Entry in magnetisation list corresponding to this grid\n",
    "print(\"magnetisaion : \", np.sum(gasp.grids[isnap][igrid].grid)/(L*L))      # Magnetisation computed from this grid"
   ]
  },
  {
   "cell_type": "code",
   "execution_count": 10,
   "id": "0d39c81f-f9be-4d1f-8ff4-57a794a10cab",
   "metadata": {},
   "outputs": [
    {
     "name": "stdout",
     "output_type": "stream",
     "text": [
      " Sweep :       4900, Reached cv = 1000.00 :  476 , Unresolved :  548\n"
     ]
    }
   ],
   "source": [
    "# Run a case which uses largest cluster size\n",
    "\n",
    "L = 64\n",
    "ngrids = 4*gasp.gpu_nsms*32\n",
    "nsweeps = 5000\n",
    "beta = 0.54\n",
    "h = 0.07\n",
    "\n",
    "grid_output_int = 100 # Should be a multiple of mag_output_int (not enforced?)\n",
    "mag_output_int  = 100 # Note that the collective variable (be it magnetisation or cluster size) is computed only at this interval\n",
    "\n",
    "frac = gasp.run_nucleation_swarm(L, ngrids, nsweeps, beta, h, \n",
    "                                 grid_output_int = grid_output_int,\n",
    "                                 mag_output_int=mag_output_int, \n",
    "                                 cv=\"largest_cluster\",                  # Thresholds apply to magnetisation\n",
    "                                 dn_threshold=-7.5, up_threshold=1000,  # Used for filtering as well as trajectory fate\n",
    "                                 keep_grids=True,                       # Store grids in memory as gasp.grids list\n",
    "                                 max_keep_grids=nsweeps*ngrids//2);     # Maximum grids to allocate space for"
   ]
  },
  {
   "cell_type": "code",
   "execution_count": 11,
   "id": "aac936da-57f6-45f8-ad6e-58e8ab47efb5",
   "metadata": {},
   "outputs": [
    {
     "name": "stdout",
     "output_type": "stream",
     "text": [
      "Number of snapshots are which grids were stored : 50 out of  50 sampled\n",
      "Total number of grids stored : 39274 out of  51200 sampled\n"
     ]
    }
   ],
   "source": [
    "print(\"Number of snapshots are which grids were stored :\", len(gasp.grids), \"out of \", nsweeps//grid_output_int, \"sampled\")\n",
    "\n",
    "tot_grids = 0\n",
    "for snaps in gasp.grids:\n",
    "    tot_grids += len(snaps)\n",
    "print(\"Total number of grids stored :\", tot_grids, \"out of \", nsweeps*ngrids//grid_output_int, \"sampled\")"
   ]
  },
  {
   "cell_type": "code",
   "execution_count": null,
   "id": "82fe03b1-87e7-42f0-be6e-5406b35c9c5a",
   "metadata": {},
   "outputs": [],
   "source": []
  }
 ],
 "metadata": {
  "kernelspec": {
   "display_name": "Python 3 (ipykernel)",
   "language": "python",
   "name": "python3"
  },
  "language_info": {
   "codemirror_mode": {
    "name": "ipython",
    "version": 3
   },
   "file_extension": ".py",
   "mimetype": "text/x-python",
   "name": "python",
   "nbconvert_exporter": "python",
   "pygments_lexer": "ipython3",
   "version": "3.11.5"
  }
 },
 "nbformat": 4,
 "nbformat_minor": 5
}
